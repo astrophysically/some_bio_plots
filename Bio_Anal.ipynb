{
 "cells": [
  {
   "cell_type": "markdown",
   "metadata": {},
   "source": [
    "This notebook serves as a way to generate the plots necessary for analysis of OTU data. First, we use a standard dataframe analysis package known as \"pandas\"."
   ]
  },
  {
   "cell_type": "code",
   "execution_count": 1,
   "metadata": {},
   "outputs": [],
   "source": [
    "import pandas as pd"
   ]
  },
  {
   "cell_type": "markdown",
   "metadata": {},
   "source": [
    "Excel is not a preferred format, so convert to csv and then read in."
   ]
  },
  {
   "cell_type": "code",
   "execution_count": 2,
   "metadata": {},
   "outputs": [],
   "source": [
    "df = pd.read_csv('otu_taxa_table.csv')"
   ]
  },
  {
   "cell_type": "markdown",
   "metadata": {},
   "source": [
    "Take a look at the dataframe to see what we have."
   ]
  },
  {
   "cell_type": "code",
   "execution_count": 3,
   "metadata": {},
   "outputs": [
    {
     "data": {
      "text/html": [
       "<div>\n",
       "<style scoped>\n",
       "    .dataframe tbody tr th:only-of-type {\n",
       "        vertical-align: middle;\n",
       "    }\n",
       "\n",
       "    .dataframe tbody tr th {\n",
       "        vertical-align: top;\n",
       "    }\n",
       "\n",
       "    .dataframe thead th {\n",
       "        text-align: right;\n",
       "    }\n",
       "</style>\n",
       "<table border=\"1\" class=\"dataframe\">\n",
       "  <thead>\n",
       "    <tr style=\"text-align: right;\">\n",
       "      <th></th>\n",
       "      <th>OTU_ID</th>\n",
       "      <th>ekb-w1</th>\n",
       "      <th>grd-w1</th>\n",
       "      <th>ekb-w2</th>\n",
       "      <th>grd-w2</th>\n",
       "      <th>taxonomy</th>\n",
       "    </tr>\n",
       "  </thead>\n",
       "  <tbody>\n",
       "    <tr>\n",
       "      <th>0</th>\n",
       "      <td>OTU24</td>\n",
       "      <td>8133</td>\n",
       "      <td>9240</td>\n",
       "      <td>18</td>\n",
       "      <td>5</td>\n",
       "      <td>k__Bacteria;p__Proteobacteria;c__Gammaproteoba...</td>\n",
       "    </tr>\n",
       "    <tr>\n",
       "      <th>1</th>\n",
       "      <td>OTU15</td>\n",
       "      <td>85</td>\n",
       "      <td>4</td>\n",
       "      <td>3812</td>\n",
       "      <td>5707</td>\n",
       "      <td>k__Bacteria;p__Proteobacteria;c__Gammaproteoba...</td>\n",
       "    </tr>\n",
       "    <tr>\n",
       "      <th>2</th>\n",
       "      <td>OTU36</td>\n",
       "      <td>4215</td>\n",
       "      <td>2843</td>\n",
       "      <td>487</td>\n",
       "      <td>1062</td>\n",
       "      <td>k__Bacteria;p__Bacteroidetes;c__Flavobacteriia...</td>\n",
       "    </tr>\n",
       "    <tr>\n",
       "      <th>3</th>\n",
       "      <td>OTU35</td>\n",
       "      <td>1872</td>\n",
       "      <td>4210</td>\n",
       "      <td>109</td>\n",
       "      <td>172</td>\n",
       "      <td>k__Bacteria;p__Proteobacteria;c__Alphaproteoba...</td>\n",
       "    </tr>\n",
       "    <tr>\n",
       "      <th>4</th>\n",
       "      <td>OTU33</td>\n",
       "      <td>94</td>\n",
       "      <td>60</td>\n",
       "      <td>2850</td>\n",
       "      <td>2803</td>\n",
       "      <td>k__Bacteria;p__Actinobacteria;c__Actinobacteri...</td>\n",
       "    </tr>\n",
       "    <tr>\n",
       "      <th>...</th>\n",
       "      <td>...</td>\n",
       "      <td>...</td>\n",
       "      <td>...</td>\n",
       "      <td>...</td>\n",
       "      <td>...</td>\n",
       "      <td>...</td>\n",
       "    </tr>\n",
       "    <tr>\n",
       "      <th>1194</th>\n",
       "      <td>OTU1031</td>\n",
       "      <td>0</td>\n",
       "      <td>0</td>\n",
       "      <td>0</td>\n",
       "      <td>3</td>\n",
       "      <td>k__Bacteria;p__Proteobacteria;c__Alphaproteoba...</td>\n",
       "    </tr>\n",
       "    <tr>\n",
       "      <th>1195</th>\n",
       "      <td>OTU1021</td>\n",
       "      <td>0</td>\n",
       "      <td>3</td>\n",
       "      <td>0</td>\n",
       "      <td>0</td>\n",
       "      <td>k__Bacteria;p__Bacteroidetes;c__Flavobacteriia...</td>\n",
       "    </tr>\n",
       "    <tr>\n",
       "      <th>1196</th>\n",
       "      <td>OTU950</td>\n",
       "      <td>0</td>\n",
       "      <td>3</td>\n",
       "      <td>0</td>\n",
       "      <td>0</td>\n",
       "      <td>k__Bacteria;p__Proteobacteria;c__Alphaproteoba...</td>\n",
       "    </tr>\n",
       "    <tr>\n",
       "      <th>1197</th>\n",
       "      <td>OTU878</td>\n",
       "      <td>0</td>\n",
       "      <td>3</td>\n",
       "      <td>0</td>\n",
       "      <td>0</td>\n",
       "      <td>k__Bacteria;p__Firmicutes;c__Clostridia;o__Clo...</td>\n",
       "    </tr>\n",
       "    <tr>\n",
       "      <th>1198</th>\n",
       "      <td>OTU537</td>\n",
       "      <td>3</td>\n",
       "      <td>0</td>\n",
       "      <td>0</td>\n",
       "      <td>0</td>\n",
       "      <td>k__Bacteria;p__Proteobacteria;c__Gammaproteoba...</td>\n",
       "    </tr>\n",
       "  </tbody>\n",
       "</table>\n",
       "<p>1199 rows × 6 columns</p>\n",
       "</div>"
      ],
      "text/plain": [
       "       OTU_ID  ekb-w1  grd-w1  ekb-w2  grd-w2  \\\n",
       "0       OTU24    8133    9240      18       5   \n",
       "1       OTU15      85       4    3812    5707   \n",
       "2       OTU36    4215    2843     487    1062   \n",
       "3       OTU35    1872    4210     109     172   \n",
       "4       OTU33      94      60    2850    2803   \n",
       "...       ...     ...     ...     ...     ...   \n",
       "1194  OTU1031       0       0       0       3   \n",
       "1195  OTU1021       0       3       0       0   \n",
       "1196   OTU950       0       3       0       0   \n",
       "1197   OTU878       0       3       0       0   \n",
       "1198   OTU537       3       0       0       0   \n",
       "\n",
       "                                               taxonomy  \n",
       "0     k__Bacteria;p__Proteobacteria;c__Gammaproteoba...  \n",
       "1     k__Bacteria;p__Proteobacteria;c__Gammaproteoba...  \n",
       "2     k__Bacteria;p__Bacteroidetes;c__Flavobacteriia...  \n",
       "3     k__Bacteria;p__Proteobacteria;c__Alphaproteoba...  \n",
       "4     k__Bacteria;p__Actinobacteria;c__Actinobacteri...  \n",
       "...                                                 ...  \n",
       "1194  k__Bacteria;p__Proteobacteria;c__Alphaproteoba...  \n",
       "1195  k__Bacteria;p__Bacteroidetes;c__Flavobacteriia...  \n",
       "1196  k__Bacteria;p__Proteobacteria;c__Alphaproteoba...  \n",
       "1197  k__Bacteria;p__Firmicutes;c__Clostridia;o__Clo...  \n",
       "1198  k__Bacteria;p__Proteobacteria;c__Gammaproteoba...  \n",
       "\n",
       "[1199 rows x 6 columns]"
      ]
     },
     "execution_count": 3,
     "metadata": {},
     "output_type": "execute_result"
    }
   ],
   "source": [
    "df"
   ]
  },
  {
   "cell_type": "markdown",
   "metadata": {},
   "source": [
    "Everything look straightforward except for taxonomy. What is going on there? Let's look at the first entry to see what's going on."
   ]
  },
  {
   "cell_type": "code",
   "execution_count": 4,
   "metadata": {},
   "outputs": [
    {
     "name": "stdout",
     "output_type": "stream",
     "text": [
      "k__Bacteria;p__Proteobacteria;c__Gammaproteobacteria;o__Pseudomonadales;f__Moraxellaceae;g__Acinetobacter;s__johnsonii\n"
     ]
    }
   ],
   "source": [
    "print(df['taxonomy'][0])"
   ]
  },
  {
   "cell_type": "markdown",
   "metadata": {},
   "source": [
    "Oh! We have all the taxonomic classifications squashed into one cell. Well, let's separate them out, shall we?"
   ]
  },
  {
   "cell_type": "code",
   "execution_count": 5,
   "metadata": {},
   "outputs": [],
   "source": [
    "df[\"Kingdom\"] = None\n",
    "df[\"Phylum\"] = None\n",
    "df[\"Class\"] = None\n",
    "df[\"Order\"] = None\n",
    "df[\"Family\"] = None\n",
    "df[\"Genus\"] = None\n",
    "df[\"Species\"] = None"
   ]
  },
  {
   "cell_type": "code",
   "execution_count": 6,
   "metadata": {},
   "outputs": [],
   "source": [
    "for ind,instance in enumerate(df['taxonomy']):\n",
    "    taxo = instance\n",
    "    array_of_taxo = taxo.split(';')\n",
    "    for thing in array_of_taxo:\n",
    "        divide = thing.split('__')\n",
    "        if divide[0] == 'k':\n",
    "            df.at[ind,'Kingdom'] = str(divide[1])\n",
    "        if divide[0] == 'p':\n",
    "            df.at[ind,'Phylum'] = str(divide[1])\n",
    "        if divide[0] == 'c':\n",
    "            df.at[ind,'Class'] = str(divide[1])\n",
    "        if divide[0] == 'o':\n",
    "            df.at[ind,'Order'] = str(divide[1])\n",
    "        if divide[0] == 'f':\n",
    "            df.at[ind,'Family'] = str(divide[1])\n",
    "        if divide[0] == 'g':\n",
    "            df.at[ind,'Genus'] = str(divide[1])\n",
    "        if divide[0] == 's':\n",
    "            df.at[ind,'Species'] = str(divide[1])\n",
    "        "
   ]
  },
  {
   "cell_type": "markdown",
   "metadata": {},
   "source": [
    "Now, let's re-examine the dataframe with everything separated out to see if it makes more sense."
   ]
  },
  {
   "cell_type": "code",
   "execution_count": 7,
   "metadata": {},
   "outputs": [
    {
     "data": {
      "text/html": [
       "<div>\n",
       "<style scoped>\n",
       "    .dataframe tbody tr th:only-of-type {\n",
       "        vertical-align: middle;\n",
       "    }\n",
       "\n",
       "    .dataframe tbody tr th {\n",
       "        vertical-align: top;\n",
       "    }\n",
       "\n",
       "    .dataframe thead th {\n",
       "        text-align: right;\n",
       "    }\n",
       "</style>\n",
       "<table border=\"1\" class=\"dataframe\">\n",
       "  <thead>\n",
       "    <tr style=\"text-align: right;\">\n",
       "      <th></th>\n",
       "      <th>OTU_ID</th>\n",
       "      <th>ekb-w1</th>\n",
       "      <th>grd-w1</th>\n",
       "      <th>ekb-w2</th>\n",
       "      <th>grd-w2</th>\n",
       "      <th>taxonomy</th>\n",
       "      <th>Kingdom</th>\n",
       "      <th>Phylum</th>\n",
       "      <th>Class</th>\n",
       "      <th>Order</th>\n",
       "      <th>Family</th>\n",
       "      <th>Genus</th>\n",
       "      <th>Species</th>\n",
       "    </tr>\n",
       "  </thead>\n",
       "  <tbody>\n",
       "    <tr>\n",
       "      <th>0</th>\n",
       "      <td>OTU24</td>\n",
       "      <td>8133</td>\n",
       "      <td>9240</td>\n",
       "      <td>18</td>\n",
       "      <td>5</td>\n",
       "      <td>k__Bacteria;p__Proteobacteria;c__Gammaproteoba...</td>\n",
       "      <td>Bacteria</td>\n",
       "      <td>Proteobacteria</td>\n",
       "      <td>Gammaproteobacteria</td>\n",
       "      <td>Pseudomonadales</td>\n",
       "      <td>Moraxellaceae</td>\n",
       "      <td>Acinetobacter</td>\n",
       "      <td>johnsonii</td>\n",
       "    </tr>\n",
       "    <tr>\n",
       "      <th>1</th>\n",
       "      <td>OTU15</td>\n",
       "      <td>85</td>\n",
       "      <td>4</td>\n",
       "      <td>3812</td>\n",
       "      <td>5707</td>\n",
       "      <td>k__Bacteria;p__Proteobacteria;c__Gammaproteoba...</td>\n",
       "      <td>Bacteria</td>\n",
       "      <td>Proteobacteria</td>\n",
       "      <td>Gammaproteobacteria</td>\n",
       "      <td>Oceanospirillales</td>\n",
       "      <td>Oceanospirillaceae</td>\n",
       "      <td></td>\n",
       "      <td></td>\n",
       "    </tr>\n",
       "    <tr>\n",
       "      <th>2</th>\n",
       "      <td>OTU36</td>\n",
       "      <td>4215</td>\n",
       "      <td>2843</td>\n",
       "      <td>487</td>\n",
       "      <td>1062</td>\n",
       "      <td>k__Bacteria;p__Bacteroidetes;c__Flavobacteriia...</td>\n",
       "      <td>Bacteria</td>\n",
       "      <td>Bacteroidetes</td>\n",
       "      <td>Flavobacteriia</td>\n",
       "      <td>Flavobacteriales</td>\n",
       "      <td>Flavobacteriaceae</td>\n",
       "      <td>Flavobacterium</td>\n",
       "      <td></td>\n",
       "    </tr>\n",
       "    <tr>\n",
       "      <th>3</th>\n",
       "      <td>OTU35</td>\n",
       "      <td>1872</td>\n",
       "      <td>4210</td>\n",
       "      <td>109</td>\n",
       "      <td>172</td>\n",
       "      <td>k__Bacteria;p__Proteobacteria;c__Alphaproteoba...</td>\n",
       "      <td>Bacteria</td>\n",
       "      <td>Proteobacteria</td>\n",
       "      <td>Alphaproteobacteria</td>\n",
       "      <td>Rhodobacterales</td>\n",
       "      <td>Rhodobacteraceae</td>\n",
       "      <td>Rhodobacter</td>\n",
       "      <td></td>\n",
       "    </tr>\n",
       "    <tr>\n",
       "      <th>4</th>\n",
       "      <td>OTU33</td>\n",
       "      <td>94</td>\n",
       "      <td>60</td>\n",
       "      <td>2850</td>\n",
       "      <td>2803</td>\n",
       "      <td>k__Bacteria;p__Actinobacteria;c__Actinobacteri...</td>\n",
       "      <td>Bacteria</td>\n",
       "      <td>Actinobacteria</td>\n",
       "      <td>Actinobacteria</td>\n",
       "      <td>Actinomycetales</td>\n",
       "      <td>Microbacteriaceae</td>\n",
       "      <td></td>\n",
       "      <td></td>\n",
       "    </tr>\n",
       "    <tr>\n",
       "      <th>...</th>\n",
       "      <td>...</td>\n",
       "      <td>...</td>\n",
       "      <td>...</td>\n",
       "      <td>...</td>\n",
       "      <td>...</td>\n",
       "      <td>...</td>\n",
       "      <td>...</td>\n",
       "      <td>...</td>\n",
       "      <td>...</td>\n",
       "      <td>...</td>\n",
       "      <td>...</td>\n",
       "      <td>...</td>\n",
       "      <td>...</td>\n",
       "    </tr>\n",
       "    <tr>\n",
       "      <th>1194</th>\n",
       "      <td>OTU1031</td>\n",
       "      <td>0</td>\n",
       "      <td>0</td>\n",
       "      <td>0</td>\n",
       "      <td>3</td>\n",
       "      <td>k__Bacteria;p__Proteobacteria;c__Alphaproteoba...</td>\n",
       "      <td>Bacteria</td>\n",
       "      <td>Proteobacteria</td>\n",
       "      <td>Alphaproteobacteria</td>\n",
       "      <td>Rhodobacterales</td>\n",
       "      <td>Rhodobacteraceae</td>\n",
       "      <td>None</td>\n",
       "      <td>None</td>\n",
       "    </tr>\n",
       "    <tr>\n",
       "      <th>1195</th>\n",
       "      <td>OTU1021</td>\n",
       "      <td>0</td>\n",
       "      <td>3</td>\n",
       "      <td>0</td>\n",
       "      <td>0</td>\n",
       "      <td>k__Bacteria;p__Bacteroidetes;c__Flavobacteriia...</td>\n",
       "      <td>Bacteria</td>\n",
       "      <td>Bacteroidetes</td>\n",
       "      <td>Flavobacteriia</td>\n",
       "      <td>Flavobacteriales</td>\n",
       "      <td>Flavobacteriaceae</td>\n",
       "      <td>None</td>\n",
       "      <td>None</td>\n",
       "    </tr>\n",
       "    <tr>\n",
       "      <th>1196</th>\n",
       "      <td>OTU950</td>\n",
       "      <td>0</td>\n",
       "      <td>3</td>\n",
       "      <td>0</td>\n",
       "      <td>0</td>\n",
       "      <td>k__Bacteria;p__Proteobacteria;c__Alphaproteoba...</td>\n",
       "      <td>Bacteria</td>\n",
       "      <td>Proteobacteria</td>\n",
       "      <td>Alphaproteobacteria</td>\n",
       "      <td>Rhizobiales</td>\n",
       "      <td>None</td>\n",
       "      <td>None</td>\n",
       "      <td>None</td>\n",
       "    </tr>\n",
       "    <tr>\n",
       "      <th>1197</th>\n",
       "      <td>OTU878</td>\n",
       "      <td>0</td>\n",
       "      <td>3</td>\n",
       "      <td>0</td>\n",
       "      <td>0</td>\n",
       "      <td>k__Bacteria;p__Firmicutes;c__Clostridia;o__Clo...</td>\n",
       "      <td>Bacteria</td>\n",
       "      <td>Firmicutes</td>\n",
       "      <td>Clostridia</td>\n",
       "      <td>Clostridiales</td>\n",
       "      <td>Lachnospiraceae</td>\n",
       "      <td>None</td>\n",
       "      <td>None</td>\n",
       "    </tr>\n",
       "    <tr>\n",
       "      <th>1198</th>\n",
       "      <td>OTU537</td>\n",
       "      <td>3</td>\n",
       "      <td>0</td>\n",
       "      <td>0</td>\n",
       "      <td>0</td>\n",
       "      <td>k__Bacteria;p__Proteobacteria;c__Gammaproteoba...</td>\n",
       "      <td>Bacteria</td>\n",
       "      <td>Proteobacteria</td>\n",
       "      <td>Gammaproteobacteria</td>\n",
       "      <td>Oceanospirillales</td>\n",
       "      <td>Oleiphilaceae</td>\n",
       "      <td></td>\n",
       "      <td></td>\n",
       "    </tr>\n",
       "  </tbody>\n",
       "</table>\n",
       "<p>1199 rows × 13 columns</p>\n",
       "</div>"
      ],
      "text/plain": [
       "       OTU_ID  ekb-w1  grd-w1  ekb-w2  grd-w2  \\\n",
       "0       OTU24    8133    9240      18       5   \n",
       "1       OTU15      85       4    3812    5707   \n",
       "2       OTU36    4215    2843     487    1062   \n",
       "3       OTU35    1872    4210     109     172   \n",
       "4       OTU33      94      60    2850    2803   \n",
       "...       ...     ...     ...     ...     ...   \n",
       "1194  OTU1031       0       0       0       3   \n",
       "1195  OTU1021       0       3       0       0   \n",
       "1196   OTU950       0       3       0       0   \n",
       "1197   OTU878       0       3       0       0   \n",
       "1198   OTU537       3       0       0       0   \n",
       "\n",
       "                                               taxonomy   Kingdom  \\\n",
       "0     k__Bacteria;p__Proteobacteria;c__Gammaproteoba...  Bacteria   \n",
       "1     k__Bacteria;p__Proteobacteria;c__Gammaproteoba...  Bacteria   \n",
       "2     k__Bacteria;p__Bacteroidetes;c__Flavobacteriia...  Bacteria   \n",
       "3     k__Bacteria;p__Proteobacteria;c__Alphaproteoba...  Bacteria   \n",
       "4     k__Bacteria;p__Actinobacteria;c__Actinobacteri...  Bacteria   \n",
       "...                                                 ...       ...   \n",
       "1194  k__Bacteria;p__Proteobacteria;c__Alphaproteoba...  Bacteria   \n",
       "1195  k__Bacteria;p__Bacteroidetes;c__Flavobacteriia...  Bacteria   \n",
       "1196  k__Bacteria;p__Proteobacteria;c__Alphaproteoba...  Bacteria   \n",
       "1197  k__Bacteria;p__Firmicutes;c__Clostridia;o__Clo...  Bacteria   \n",
       "1198  k__Bacteria;p__Proteobacteria;c__Gammaproteoba...  Bacteria   \n",
       "\n",
       "              Phylum                Class              Order  \\\n",
       "0     Proteobacteria  Gammaproteobacteria    Pseudomonadales   \n",
       "1     Proteobacteria  Gammaproteobacteria  Oceanospirillales   \n",
       "2      Bacteroidetes       Flavobacteriia   Flavobacteriales   \n",
       "3     Proteobacteria  Alphaproteobacteria    Rhodobacterales   \n",
       "4     Actinobacteria       Actinobacteria    Actinomycetales   \n",
       "...              ...                  ...                ...   \n",
       "1194  Proteobacteria  Alphaproteobacteria    Rhodobacterales   \n",
       "1195   Bacteroidetes       Flavobacteriia   Flavobacteriales   \n",
       "1196  Proteobacteria  Alphaproteobacteria        Rhizobiales   \n",
       "1197      Firmicutes           Clostridia      Clostridiales   \n",
       "1198  Proteobacteria  Gammaproteobacteria  Oceanospirillales   \n",
       "\n",
       "                  Family           Genus    Species  \n",
       "0          Moraxellaceae   Acinetobacter  johnsonii  \n",
       "1     Oceanospirillaceae                             \n",
       "2      Flavobacteriaceae  Flavobacterium             \n",
       "3       Rhodobacteraceae     Rhodobacter             \n",
       "4      Microbacteriaceae                             \n",
       "...                  ...             ...        ...  \n",
       "1194    Rhodobacteraceae            None       None  \n",
       "1195   Flavobacteriaceae            None       None  \n",
       "1196                None            None       None  \n",
       "1197     Lachnospiraceae            None       None  \n",
       "1198       Oleiphilaceae                             \n",
       "\n",
       "[1199 rows x 13 columns]"
      ]
     },
     "execution_count": 7,
     "metadata": {},
     "output_type": "execute_result"
    }
   ],
   "source": [
    "df"
   ]
  },
  {
   "cell_type": "markdown",
   "metadata": {},
   "source": [
    "Great! One thing we might want to do is look at the most common classifications. We'll do that by sorting."
   ]
  },
  {
   "cell_type": "code",
   "execution_count": 8,
   "metadata": {},
   "outputs": [
    {
     "data": {
      "text/html": [
       "<div>\n",
       "<style scoped>\n",
       "    .dataframe tbody tr th:only-of-type {\n",
       "        vertical-align: middle;\n",
       "    }\n",
       "\n",
       "    .dataframe tbody tr th {\n",
       "        vertical-align: top;\n",
       "    }\n",
       "\n",
       "    .dataframe thead th {\n",
       "        text-align: right;\n",
       "    }\n",
       "</style>\n",
       "<table border=\"1\" class=\"dataframe\">\n",
       "  <thead>\n",
       "    <tr style=\"text-align: right;\">\n",
       "      <th></th>\n",
       "      <th>OTU_ID</th>\n",
       "      <th>ekb-w1</th>\n",
       "      <th>grd-w1</th>\n",
       "      <th>ekb-w2</th>\n",
       "      <th>grd-w2</th>\n",
       "      <th>taxonomy</th>\n",
       "      <th>Kingdom</th>\n",
       "      <th>Phylum</th>\n",
       "      <th>Class</th>\n",
       "      <th>Order</th>\n",
       "      <th>Family</th>\n",
       "      <th>Genus</th>\n",
       "      <th>Species</th>\n",
       "    </tr>\n",
       "  </thead>\n",
       "  <tbody>\n",
       "    <tr>\n",
       "      <th>0</th>\n",
       "      <td>OTU24</td>\n",
       "      <td>8133</td>\n",
       "      <td>9240</td>\n",
       "      <td>18</td>\n",
       "      <td>5</td>\n",
       "      <td>k__Bacteria;p__Proteobacteria;c__Gammaproteoba...</td>\n",
       "      <td>Bacteria</td>\n",
       "      <td>Proteobacteria</td>\n",
       "      <td>Gammaproteobacteria</td>\n",
       "      <td>Pseudomonadales</td>\n",
       "      <td>Moraxellaceae</td>\n",
       "      <td>Acinetobacter</td>\n",
       "      <td>johnsonii</td>\n",
       "    </tr>\n",
       "    <tr>\n",
       "      <th>2</th>\n",
       "      <td>OTU36</td>\n",
       "      <td>4215</td>\n",
       "      <td>2843</td>\n",
       "      <td>487</td>\n",
       "      <td>1062</td>\n",
       "      <td>k__Bacteria;p__Bacteroidetes;c__Flavobacteriia...</td>\n",
       "      <td>Bacteria</td>\n",
       "      <td>Bacteroidetes</td>\n",
       "      <td>Flavobacteriia</td>\n",
       "      <td>Flavobacteriales</td>\n",
       "      <td>Flavobacteriaceae</td>\n",
       "      <td>Flavobacterium</td>\n",
       "      <td></td>\n",
       "    </tr>\n",
       "    <tr>\n",
       "      <th>3</th>\n",
       "      <td>OTU35</td>\n",
       "      <td>1872</td>\n",
       "      <td>4210</td>\n",
       "      <td>109</td>\n",
       "      <td>172</td>\n",
       "      <td>k__Bacteria;p__Proteobacteria;c__Alphaproteoba...</td>\n",
       "      <td>Bacteria</td>\n",
       "      <td>Proteobacteria</td>\n",
       "      <td>Alphaproteobacteria</td>\n",
       "      <td>Rhodobacterales</td>\n",
       "      <td>Rhodobacteraceae</td>\n",
       "      <td>Rhodobacter</td>\n",
       "      <td></td>\n",
       "    </tr>\n",
       "    <tr>\n",
       "      <th>11</th>\n",
       "      <td>OTU88</td>\n",
       "      <td>1168</td>\n",
       "      <td>1300</td>\n",
       "      <td>2</td>\n",
       "      <td>0</td>\n",
       "      <td>k__Bacteria;p__Proteobacteria;c__Gammaproteoba...</td>\n",
       "      <td>Bacteria</td>\n",
       "      <td>Proteobacteria</td>\n",
       "      <td>Gammaproteobacteria</td>\n",
       "      <td>Pseudomonadales</td>\n",
       "      <td>Pseudomonadaceae</td>\n",
       "      <td>Pseudomonas</td>\n",
       "      <td></td>\n",
       "    </tr>\n",
       "    <tr>\n",
       "      <th>18</th>\n",
       "      <td>OTU56</td>\n",
       "      <td>1135</td>\n",
       "      <td>966</td>\n",
       "      <td>5</td>\n",
       "      <td>3</td>\n",
       "      <td>k__Bacteria;p__Proteobacteria;c__Gammaproteoba...</td>\n",
       "      <td>Bacteria</td>\n",
       "      <td>Proteobacteria</td>\n",
       "      <td>Gammaproteobacteria</td>\n",
       "      <td>Aeromonadales</td>\n",
       "      <td>Aeromonadaceae</td>\n",
       "      <td>Tolumonas</td>\n",
       "      <td></td>\n",
       "    </tr>\n",
       "    <tr>\n",
       "      <th>...</th>\n",
       "      <td>...</td>\n",
       "      <td>...</td>\n",
       "      <td>...</td>\n",
       "      <td>...</td>\n",
       "      <td>...</td>\n",
       "      <td>...</td>\n",
       "      <td>...</td>\n",
       "      <td>...</td>\n",
       "      <td>...</td>\n",
       "      <td>...</td>\n",
       "      <td>...</td>\n",
       "      <td>...</td>\n",
       "      <td>...</td>\n",
       "    </tr>\n",
       "    <tr>\n",
       "      <th>1166</th>\n",
       "      <td>OTU1125</td>\n",
       "      <td>0</td>\n",
       "      <td>0</td>\n",
       "      <td>0</td>\n",
       "      <td>3</td>\n",
       "      <td>k__Bacteria;p__Proteobacteria;c__Gammaproteoba...</td>\n",
       "      <td>Bacteria</td>\n",
       "      <td>Proteobacteria</td>\n",
       "      <td>Gammaproteobacteria</td>\n",
       "      <td>Alteromonadales</td>\n",
       "      <td>OM60</td>\n",
       "      <td>None</td>\n",
       "      <td>None</td>\n",
       "    </tr>\n",
       "    <tr>\n",
       "      <th>1167</th>\n",
       "      <td>OTU1149</td>\n",
       "      <td>0</td>\n",
       "      <td>0</td>\n",
       "      <td>0</td>\n",
       "      <td>3</td>\n",
       "      <td>k__Bacteria;p__Bacteroidetes;c__Bacteroidia;o_...</td>\n",
       "      <td>Bacteria</td>\n",
       "      <td>Bacteroidetes</td>\n",
       "      <td>Bacteroidia</td>\n",
       "      <td>Bacteroidales</td>\n",
       "      <td>Porphyromonadaceae</td>\n",
       "      <td>Paludibacter</td>\n",
       "      <td></td>\n",
       "    </tr>\n",
       "    <tr>\n",
       "      <th>1182</th>\n",
       "      <td>OTU1110</td>\n",
       "      <td>0</td>\n",
       "      <td>0</td>\n",
       "      <td>0</td>\n",
       "      <td>3</td>\n",
       "      <td>k__Bacteria;p__GN02;c__BD1-5;o__;f__;g__;s__</td>\n",
       "      <td>Bacteria</td>\n",
       "      <td>GN02</td>\n",
       "      <td>BD1-5</td>\n",
       "      <td></td>\n",
       "      <td></td>\n",
       "      <td></td>\n",
       "      <td></td>\n",
       "    </tr>\n",
       "    <tr>\n",
       "      <th>1194</th>\n",
       "      <td>OTU1031</td>\n",
       "      <td>0</td>\n",
       "      <td>0</td>\n",
       "      <td>0</td>\n",
       "      <td>3</td>\n",
       "      <td>k__Bacteria;p__Proteobacteria;c__Alphaproteoba...</td>\n",
       "      <td>Bacteria</td>\n",
       "      <td>Proteobacteria</td>\n",
       "      <td>Alphaproteobacteria</td>\n",
       "      <td>Rhodobacterales</td>\n",
       "      <td>Rhodobacteraceae</td>\n",
       "      <td>None</td>\n",
       "      <td>None</td>\n",
       "    </tr>\n",
       "    <tr>\n",
       "      <th>1121</th>\n",
       "      <td>OTU1138</td>\n",
       "      <td>0</td>\n",
       "      <td>0</td>\n",
       "      <td>0</td>\n",
       "      <td>2</td>\n",
       "      <td>k__Bacteria;p__Bacteroidetes;c__[Saprospirae];...</td>\n",
       "      <td>Bacteria</td>\n",
       "      <td>Bacteroidetes</td>\n",
       "      <td>[Saprospirae]</td>\n",
       "      <td>[Saprospirales]</td>\n",
       "      <td>Saprospiraceae</td>\n",
       "      <td></td>\n",
       "      <td></td>\n",
       "    </tr>\n",
       "  </tbody>\n",
       "</table>\n",
       "<p>1199 rows × 13 columns</p>\n",
       "</div>"
      ],
      "text/plain": [
       "       OTU_ID  ekb-w1  grd-w1  ekb-w2  grd-w2  \\\n",
       "0       OTU24    8133    9240      18       5   \n",
       "2       OTU36    4215    2843     487    1062   \n",
       "3       OTU35    1872    4210     109     172   \n",
       "11      OTU88    1168    1300       2       0   \n",
       "18      OTU56    1135     966       5       3   \n",
       "...       ...     ...     ...     ...     ...   \n",
       "1166  OTU1125       0       0       0       3   \n",
       "1167  OTU1149       0       0       0       3   \n",
       "1182  OTU1110       0       0       0       3   \n",
       "1194  OTU1031       0       0       0       3   \n",
       "1121  OTU1138       0       0       0       2   \n",
       "\n",
       "                                               taxonomy   Kingdom  \\\n",
       "0     k__Bacteria;p__Proteobacteria;c__Gammaproteoba...  Bacteria   \n",
       "2     k__Bacteria;p__Bacteroidetes;c__Flavobacteriia...  Bacteria   \n",
       "3     k__Bacteria;p__Proteobacteria;c__Alphaproteoba...  Bacteria   \n",
       "11    k__Bacteria;p__Proteobacteria;c__Gammaproteoba...  Bacteria   \n",
       "18    k__Bacteria;p__Proteobacteria;c__Gammaproteoba...  Bacteria   \n",
       "...                                                 ...       ...   \n",
       "1166  k__Bacteria;p__Proteobacteria;c__Gammaproteoba...  Bacteria   \n",
       "1167  k__Bacteria;p__Bacteroidetes;c__Bacteroidia;o_...  Bacteria   \n",
       "1182       k__Bacteria;p__GN02;c__BD1-5;o__;f__;g__;s__  Bacteria   \n",
       "1194  k__Bacteria;p__Proteobacteria;c__Alphaproteoba...  Bacteria   \n",
       "1121  k__Bacteria;p__Bacteroidetes;c__[Saprospirae];...  Bacteria   \n",
       "\n",
       "              Phylum                Class             Order  \\\n",
       "0     Proteobacteria  Gammaproteobacteria   Pseudomonadales   \n",
       "2      Bacteroidetes       Flavobacteriia  Flavobacteriales   \n",
       "3     Proteobacteria  Alphaproteobacteria   Rhodobacterales   \n",
       "11    Proteobacteria  Gammaproteobacteria   Pseudomonadales   \n",
       "18    Proteobacteria  Gammaproteobacteria     Aeromonadales   \n",
       "...              ...                  ...               ...   \n",
       "1166  Proteobacteria  Gammaproteobacteria   Alteromonadales   \n",
       "1167   Bacteroidetes          Bacteroidia     Bacteroidales   \n",
       "1182            GN02                BD1-5                     \n",
       "1194  Proteobacteria  Alphaproteobacteria   Rhodobacterales   \n",
       "1121   Bacteroidetes        [Saprospirae]   [Saprospirales]   \n",
       "\n",
       "                  Family           Genus    Species  \n",
       "0          Moraxellaceae   Acinetobacter  johnsonii  \n",
       "2      Flavobacteriaceae  Flavobacterium             \n",
       "3       Rhodobacteraceae     Rhodobacter             \n",
       "11      Pseudomonadaceae     Pseudomonas             \n",
       "18        Aeromonadaceae       Tolumonas             \n",
       "...                  ...             ...        ...  \n",
       "1166                OM60            None       None  \n",
       "1167  Porphyromonadaceae    Paludibacter             \n",
       "1182                                                 \n",
       "1194    Rhodobacteraceae            None       None  \n",
       "1121      Saprospiraceae                             \n",
       "\n",
       "[1199 rows x 13 columns]"
      ]
     },
     "execution_count": 8,
     "metadata": {},
     "output_type": "execute_result"
    }
   ],
   "source": [
    "df.sort_values(['ekb-w1','grd-w1','ekb-w2','grd-w2'], ascending=[False, False, False, False])"
   ]
  },
  {
   "cell_type": "markdown",
   "metadata": {},
   "source": [
    "And what if we wanted to know all the Phylum that have been identified?"
   ]
  },
  {
   "cell_type": "code",
   "execution_count": 9,
   "metadata": {},
   "outputs": [
    {
     "name": "stdout",
     "output_type": "stream",
     "text": [
      "['Proteobacteria' 'Bacteroidetes' 'Actinobacteria' 'Cyanobacteria' None\n",
      " 'Firmicutes' 'Fusobacteria' 'Planctomycetes' 'Verrucomicrobia'\n",
      " 'Synergistetes' 'Tenericutes' 'TM6' 'Acidobacteria' 'TM7' 'WWE1'\n",
      " 'Chloroflexi' 'OD1' 'Thermotogae' 'WS3' 'Chlorobi' 'GN02' 'WPS-2' 'SR1'\n",
      " 'SAR406' 'Fibrobacteres' '' 'Caldiserica']\n"
     ]
    }
   ],
   "source": [
    "print(df['Phylum'].unique())"
   ]
  },
  {
   "cell_type": "markdown",
   "metadata": {},
   "source": [
    "You can do some data exploration, if you'd like. How many OTUs are not classified as bacteria?"
   ]
  },
  {
   "cell_type": "code",
   "execution_count": 12,
   "metadata": {},
   "outputs": [
    {
     "data": {
      "text/plain": [
       "439"
      ]
     },
     "execution_count": 12,
     "metadata": {},
     "output_type": "execute_result"
    }
   ],
   "source": [
    "sum(df['ekb-w1'][df['Kingdom'] != 'Bacteria'])"
   ]
  },
  {
   "cell_type": "markdown",
   "metadata": {},
   "source": [
    "And how many are classified as bacteria?"
   ]
  },
  {
   "cell_type": "code",
   "execution_count": 13,
   "metadata": {},
   "outputs": [
    {
     "data": {
      "text/plain": [
       "49977"
      ]
     },
     "execution_count": 13,
     "metadata": {},
     "output_type": "execute_result"
    }
   ],
   "source": [
    "sum(df['ekb-w1'][df['Kingdom'] == 'Bacteria'])"
   ]
  },
  {
   "cell_type": "markdown",
   "metadata": {},
   "source": [
    "Let's do some visualizations. Here are a few standard packages and one that you may have to download via pip: distinctipy. This gives high-contrast colors"
   ]
  },
  {
   "cell_type": "code",
   "execution_count": 14,
   "metadata": {},
   "outputs": [],
   "source": [
    "import matplotlib.pyplot as plt\n",
    "import numpy as np\n",
    "from distinctipy import distinctipy"
   ]
  },
  {
   "cell_type": "markdown",
   "metadata": {},
   "source": [
    "Now here is a function that takes a dataframe (df) that has the format provided, considers a certain number of sample columns in it (ncol), and produces a relative bar graph of a particular taxonomic level (taxa). You must specify the number of unique identified taxa you would like to have represaented in the bar graph (n). All remaining classifications will be assigned either to \"unclassified\" (if there is no designation provided) or \"other\" (if there is and the number present in the samples are just too small to be included in n."
   ]
  },
  {
   "cell_type": "code",
   "execution_count": 183,
   "metadata": {},
   "outputs": [],
   "source": [
    "def plot_rel_abundances(df,ncol,taxa,num):\n",
    "    columns = df.columns\n",
    "    labels = columns[1:ncol+1]\n",
    "    colors = distinctipy.get_colors(num+2)\n",
    "    unique_things = df[taxa].unique()\n",
    "    unique_things = unique_things[unique_things != np.array(None)]\n",
    "    unique_things = unique_things[unique_things != '']\n",
    "    unique_things = np.append(unique_things, 'Unclassified')\n",
    "\n",
    "    ysum = np.zeros(ncol)\n",
    "    yother = np.zeros(ncol)\n",
    "    y = np.zeros(ncol)\n",
    "    \n",
    "    fig = plt.figure()\n",
    "    ax = plt.subplot(111)\n",
    "\n",
    "    # Shrink current axis by 20%\n",
    "    box = ax.get_position()\n",
    "    ax.set_position([box.x0, box.y0, box.width * 0.8, box.height])\n",
    "    \n",
    "\n",
    "    for ind,thing in enumerate(unique_things):\n",
    "        if ind < num:\n",
    "            if thing != 'Unclassified':\n",
    "                for n,label in enumerate(labels):\n",
    "                    y[n] = sum(df[label][df[taxa] == thing])/sum(df[label])\n",
    "            else:\n",
    "                for n, label in enumerate(labels):\n",
    "                    y[n] = 1.0-ysum[n]\n",
    "            ax.bar(labels, y, bottom=ysum, color=colors[ind])\n",
    "            for n, label in enumerate(labels):\n",
    "                ysum[n] += y[n]\n",
    "        else:\n",
    "            unique_things = np.append(unique_things[0:num],['Other','Unclassified'])\n",
    "            if thing != 'Unclassified':\n",
    "                for n, label in enumerate(labels):\n",
    "                    yother[n] += sum(df[label][df[taxa] == thing])/sum(df[label])\n",
    "                continue\n",
    "            else:\n",
    "                for n, label in enumerate(labels):\n",
    "                    y[n] = yother[n]\n",
    "                ax.bar(labels, y, bottom=ysum, color=colors[num])\n",
    "                for n, label in enumerate(labels):\n",
    "                    ysum[n] += y[n]\n",
    "                    y[n] = 1.0-ysum[n]\n",
    "                ax.bar(labels, y, bottom=ysum, color=colors[num+1])\n",
    "    # plot bars in stack manner\n",
    "    ax.set_ylabel(\"Relative\")\n",
    "    # Put a legend to the right of the current axis\n",
    "    ax.legend(unique_things, loc='center left', bbox_to_anchor=(1, 0.5))\n",
    "    plt.show()"
   ]
  },
  {
   "cell_type": "markdown",
   "metadata": {},
   "source": [
    "Let's see how that works"
   ]
  },
  {
   "cell_type": "code",
   "execution_count": 184,
   "metadata": {},
   "outputs": [
    {
     "data": {
      "image/png": "[encoded data removed]",
      "text/plain": [
       "<Figure size 432x288 with 1 Axes>"
      ]
     },
     "metadata": {
      "needs_background": "light"
     },
     "output_type": "display_data"
    }
   ],
   "source": [
    "plot_rel_abundances(df,4,'Kingdom',100)"
   ]
  },
  {
   "cell_type": "code",
   "execution_count": 185,
   "metadata": {},
   "outputs": [
    {
     "data": {
      "image/png": "[encoded data removed]",
      "text/plain": [
       "<Figure size 432x288 with 1 Axes>"
      ]
     },
     "metadata": {
      "needs_background": "light"
     },
     "output_type": "display_data"
    }
   ],
   "source": [
    "plot_rel_abundances(df,4,'Phylum',8)"
   ]
  },
  {
   "cell_type": "code",
   "execution_count": 186,
   "metadata": {},
   "outputs": [
    {
     "data": {
      "image/png": "[encoded data removed]",
      "text/plain": [
       "<Figure size 432x288 with 1 Axes>"
      ]
     },
     "metadata": {
      "needs_background": "light"
     },
     "output_type": "display_data"
    }
   ],
   "source": [
    "plot_rel_abundances(df,4,'Class',8)"
   ]
  },
  {
   "cell_type": "code",
   "execution_count": 187,
   "metadata": {},
   "outputs": [
    {
     "data": {
      "image/png": "[encoded data removed]",
      "text/plain": [
       "<Figure size 432x288 with 1 Axes>"
      ]
     },
     "metadata": {
      "needs_background": "light"
     },
     "output_type": "display_data"
    }
   ],
   "source": [
    "plot_rel_abundances(df,4,'Order',8)"
   ]
  },
  {
   "cell_type": "code",
   "execution_count": 188,
   "metadata": {},
   "outputs": [
    {
     "data": {
      "image/png": "[encoded data removed]",
      "text/plain": [
       "<Figure size 432x288 with 1 Axes>"
      ]
     },
     "metadata": {
      "needs_background": "light"
     },
     "output_type": "display_data"
    }
   ],
   "source": [
    "plot_rel_abundances(df,4,'Family',8)"
   ]
  },
  {
   "cell_type": "code",
   "execution_count": 189,
   "metadata": {},
   "outputs": [
    {
     "data": {
      "image/png": "[encoded data removed]",
      "text/plain": [
       "<Figure size 432x288 with 1 Axes>"
      ]
     },
     "metadata": {
      "needs_background": "light"
     },
     "output_type": "display_data"
    }
   ],
   "source": [
    "plot_rel_abundances(df,4,'Genus',8)"
   ]
  },
  {
   "cell_type": "code",
   "execution_count": 190,
   "metadata": {},
   "outputs": [
    {
     "data": {
      "image/png": "[encoded data removed]",
      "text/plain": [
       "<Figure size 432x288 with 1 Axes>"
      ]
     },
     "metadata": {
      "needs_background": "light"
     },
     "output_type": "display_data"
    }
   ],
   "source": [
    "plot_rel_abundances(df,4,'Species',8)"
   ]
  },
  {
   "cell_type": "markdown",
   "metadata": {},
   "source": [
    "The next step is to produce a function that will plot the Principle Coordinate Analysis using the Skbio package (which can be installed with conda). First a Bray-Curtis Distance Matrix is calculated and then the PCoA eigenvectors and eigenvalues are calculated. The two most significant eigenvalues (labeled PC1 and PC2) are then plotted with the magnitude of each sample's projection onto the coordinate indicated in the scatterplot. More advanced color-coding is possible, but may benefit from application via the UPGMA tree below."
   ]
  },
  {
   "cell_type": "code",
   "execution_count": 27,
   "metadata": {},
   "outputs": [],
   "source": [
    "def plot_pcoa(df,ncol):\n",
    "    from skbio.diversity import beta_diversity\n",
    "    from skbio.stats.ordination import pcoa\n",
    "    columns = df.columns\n",
    "    labels = columns[1:ncol+1]\n",
    "    data = df[labels]\n",
    "    data_T = data.T\n",
    "    ids = list(labels)\n",
    "    bc_dm = beta_diversity(\"braycurtis\",data_T, ids)\n",
    "    bc_pc = pcoa(bc_dm)\n",
    "    xvals = bc_pc.samples['PC1']\n",
    "    yvals = bc_pc.samples['PC2']\n",
    "    for ind in range(0,ncol):\n",
    "        plt.scatter(xvals[ind],yvals[ind],\n",
    "            label=ids[ind])\n",
    "    plt.xlabel(\"PC1 \"+str(round(100*bc_pc.proportion_explained[0],2))+' % variance explained')\n",
    "    plt.ylabel(\"PC2 \"+str(round(100*bc_pc.proportion_explained[1],2))+' % variance explained')\n",
    "    null = plt.legend()"
   ]
  },
  {
   "cell_type": "markdown",
   "metadata": {},
   "source": [
    "Let's just look at where the different projected magnitudes are for the dataframe."
   ]
  },
  {
   "cell_type": "code",
   "execution_count": 28,
   "metadata": {},
   "outputs": [
    {
     "data": {
      "image/png": "[encoded data removed]",
      "text/plain": [
       "<Figure size 432x288 with 1 Axes>"
      ]
     },
     "metadata": {
      "needs_background": "light"
     },
     "output_type": "display_data"
    }
   ],
   "source": [
    "plot_pcoa(df,4)"
   ]
  },
  {
   "cell_type": "markdown",
   "metadata": {},
   "source": [
    "Let's recreate the distance matrix from the above analysis."
   ]
  },
  {
   "cell_type": "code",
   "execution_count": 33,
   "metadata": {},
   "outputs": [],
   "source": [
    "from skbio.diversity import beta_diversity\n",
    "\n",
    "ncol = 4\n",
    "columns = df.columns\n",
    "labels = columns[1:ncol+1]\n",
    "data = df[labels]\n",
    "data_T = data.T\n",
    "ids = list(labels)\n",
    "bc_dm = beta_diversity(\"braycurtis\",data_T, ids)"
   ]
  },
  {
   "cell_type": "markdown",
   "metadata": {},
   "source": [
    "Now we would like to create some data products that can be read in by our tree-generating code ETE3 (which you will need to install as a separate environment for conda)"
   ]
  },
  {
   "cell_type": "code",
   "execution_count": 103,
   "metadata": {},
   "outputs": [
    {
     "name": "stdout",
     "output_type": "stream",
     "text": [
      "[[0.         0.21042923 0.81472152 0.83082752]\n",
      " [0.21042923 0.         0.88114884 0.88723818]\n",
      " [0.81472152 0.88114884 0.         0.36202793]\n",
      " [0.83082752 0.88723818 0.36202793 0.        ]]\n",
      "[0.21042923 0.81472152 0.88114884 0.83082752 0.88723818 0.36202793]\n"
     ]
    }
   ],
   "source": [
    "def create_bio_cluster_matrix(bc_dm,ncol):\n",
    "    np.warnings.filterwarnings('ignore', category=np.VisibleDeprecationWarning)\n",
    "    return_list = []\n",
    "    for ind in range(0,ncol):\n",
    "        array = bc_dm[ind]\n",
    "        array_trunc = array[0:ind]\n",
    "        return_list.append(array_trunc)\n",
    "    return np.array(return_list)\n",
    "\n",
    "def create_bio_cluster_conden(bc_dm,ncol):\n",
    "    np.warnings.filterwarnings('ignore', category=np.VisibleDeprecationWarning)\n",
    "    return_list = np.array([])\n",
    "    for ind in range(0,ncol):\n",
    "        array = bc_dm[ind]\n",
    "        array_trunc = array[0:ind]\n",
    "        return_list = np.append(return_list,array_trunc.flatten())\n",
    "        return_list = np.array(return_list)\n",
    "        return_list = return_list.flatten()\n",
    "    return return_list"
   ]
  },
  {
   "cell_type": "markdown",
   "metadata": {},
   "source": [
    "Time to generate some UPGMA trees. To do this, we will use the average function in the cluster package of scipy along with the distance matrix we generated above. Then we will generate a tree using the skbio package which needs to be saved in the external file format \".ph\". This file can then be read into ete3 for visualization. We will color code each child differently to get a better sense of the clustering."
   ]
  },
  {
   "cell_type": "code",
   "execution_count": 176,
   "metadata": {},
   "outputs": [
    {
     "data": {
      "image/png": "[encoded data removed]",
      "text/plain": [
       "<IPython.core.display.Image object>"
      ]
     },
     "execution_count": 176,
     "metadata": {},
     "output_type": "execute_result"
    }
   ],
   "source": [
    "import ete3\n",
    "from skbio import TreeNode\n",
    "from scipy.cluster.hierarchy import average\n",
    "from colormap import rgb2hex\n",
    "dm = create_bio_cluster_conden(bc_dm,4)\n",
    "lm = average(dm)\n",
    "upgma_tree = TreeNode.from_linkage_matrix(lm, ids)\n",
    "upgma_tree_fp = 'new.upgma.ph'\n",
    "upgma_tree.write(upgma_tree_fp)\n",
    "ts = ete3.TreeStyle()\n",
    "ts.scale =  900\n",
    "ts.show_leaf_name = True\n",
    "ts.show_branch_length = True\n",
    "ts.show_branch_support = False\n",
    "ts.branch_vertical_margin = 10\n",
    "ts.show_scale = False\n",
    "ts.scale =  240 # 120 pixels per branch length unit\n",
    "t=ete3.Tree(upgma_tree_fp, format=1)\n",
    "\n",
    "children = t.children\n",
    "colors = distinctipy.get_colors(len(children))\n",
    "for ind,child in enumerate(children):\n",
    "    for n in child.traverse():\n",
    "        nstyle = ete3.NodeStyle()\n",
    "        thruple = colors[ind]\n",
    "        color = rgb2hex(int(255*thruple[0]),int(255*thruple[1]),int(255*thruple[2]))\n",
    "        nstyle[\"fgcolor\"] = color\n",
    "        n.set_style(nstyle)\n",
    "\n",
    "t.render(\"%%inline\", units=\"in\",h=4, tree_style=ts)\n"
   ]
  }
 ],
 "metadata": {
  "kernelspec": {
   "display_name": "Python 3",
   "language": "python",
   "name": "python3"
  },
  "language_info": {
   "codemirror_mode": {
    "name": "ipython",
    "version": 3
   },
   "file_extension": ".py",
   "mimetype": "text/x-python",
   "name": "python",
   "nbconvert_exporter": "python",
   "pygments_lexer": "ipython3",
   "version": "3.6.13"
  }
 },
 "nbformat": 4,
 "nbformat_minor": 4
}
